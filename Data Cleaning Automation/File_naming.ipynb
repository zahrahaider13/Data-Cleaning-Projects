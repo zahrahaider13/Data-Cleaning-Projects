{
 "cells": [
  {
   "cell_type": "markdown",
   "id": "e612d5f0",
   "metadata": {},
   "source": [
    "# 📂 The Great File Renaming Adventure  \n",
    "**Author: Zahra Haider**  \n",
    "`Created: [06/04/2025]`  \n",
    "\n",
    "---\n",
    "\n",
    "## 📜 Prologue: A Messy Folder Awaiting Order\n",
    "\n",
    "**Imagine this:** You're staring at a folder containing 100 files named `file1.txt`, `file2.txt`, and so on. It's functional, but uninspired. You need them renamed to `data_1.txt`, `data_2.txt`—consistent, professional, and ready for analysis.  \n",
    "\n",
    "Doing this manually? No thank you! Let's write a Python script to automate this tedious task.  \n",
    "\n",
    "---\n",
    "\n",
    "### ⚡ **Chapter 1: Preparing Our Tools**  \n",
    "First, we need our trusty sidekick: the `os` module. This Python library lets us interact with the operating system—perfect for file operations.\n",
    "\n",
    "---"
   ]
  },
  {
   "cell_type": "code",
   "execution_count": 6,
   "id": "2b4b79f3",
   "metadata": {},
   "outputs": [],
   "source": [
    "import os"
   ]
  },
  {
   "cell_type": "markdown",
   "id": "fe29c61d",
   "metadata": {},
   "source": [
    "*With this single line, we've unlocked the power to create, rename, and organize files at will!*\n",
    "\n",
    "---"
   ]
  },
  {
   "cell_type": "markdown",
   "id": "c769e348",
   "metadata": {},
   "source": [
    "### 🧪 **Chapter 2: Creating a Test Environment**\n",
    "Before renaming real files, let's create a safe practice folder with 100 dummy files.\n",
    "\n",
    "---"
   ]
  },
  {
   "cell_type": "code",
   "execution_count": 7,
   "id": "d4e09c54",
   "metadata": {},
   "outputs": [],
   "source": [
    "os.mkdir('test_files')  \n",
    "for i in range(1, 101):\n",
    "    with open(f'test_files/file{i}.txt', 'w') as f:\n",
    "        f.write(\"dummy content\")"
   ]
  },
  {
   "cell_type": "markdown",
   "id": "a6e67c17",
   "metadata": {},
   "source": [
    "❓ **What Just Happened?**  \n",
    "\n",
    "We:  \n",
    "1️⃣ Created a folder called `test_files`  \n",
    "2️⃣ Generated 100 text files (`file1.txt` to `file100.txt`)  \n",
    "3️⃣ Populated each with the text `\"dummy content\"`  \n",
    "\n",
    "🔒 **Safety First!**  \n",
    "Now we can experiment with file renaming without risking real data. Perfect for testing our script!\n",
    "\n",
    "---"
   ]
  },
  {
   "cell_type": "markdown",
   "id": "e25163cf",
   "metadata": {},
   "source": [
    "### 🎩 **Chapter 3: The Renaming Magic**\n",
    "\n",
    "Here comes the exciting part—automating the renaming process!\n",
    "\n",
    "---"
   ]
  },
  {
   "cell_type": "code",
   "execution_count": 8,
   "id": "fafd7a4c",
   "metadata": {},
   "outputs": [],
   "source": [
    "for i, filename in enumerate(os.listdir('test_files')):\n",
    "    old_path = os.path.join('test_files', filename)\n",
    "    new_path = os.path.join('test_files', f'data_{i+1}.txt')\n",
    "    os.rename(old_path, new_path)"
   ]
  },
  {
   "cell_type": "markdown",
   "id": "bb667164",
   "metadata": {},
   "source": [
    "🔧 **How It Works**\n",
    "\n",
    "The magic happens in these steps:\n",
    "\n",
    "1. **`os.listdir()`** - Scans and lists all files in the folder  \n",
    "2. **`enumerate()`** - Numbers each file (we add +1 since it starts at 0)  \n",
    "3. **`os.path.join()`** - Creates OS-friendly full file paths (works on Windows/Mac/Linux)  \n",
    "4. **`os.rename()`** - Performs the actual file renaming  \n",
    "\n",
    "✨ **Poof!**  \n",
    "All files transform from `fileX.txt` to beautiful, standardized `data_X.txt` format - ready for analysis!\n",
    "\n",
    "---"
   ]
  },
  {
   "cell_type": "markdown",
   "id": "5e85fdbb",
   "metadata": {},
   "source": [
    "## 🔍**Epilogue: The Power of Automation**  \n",
    "\n",
    "### ⚡ Why This Matters  \n",
    "- **⏱️ Time Saved**:  \n",
    "  Renaming 100 files manually ≈ 10 minutes.  \n",
    "  With Python ≈ *0.1 seconds*.  \n",
    "- **✅ Error Prevention**:  \n",
    "  No risk of typos or skipped files.  \n",
    "- **📈 Scalability**:  \n",
    "  Works for 1,000 files as effortlessly as 100.  \n",
    "\n",
    "### 🌟 Next Adventures  \n",
    "- **✨ Dynamic Naming**:  \n",
    "  Add prefixes/suffixes based on file content.  \n",
    "- **🗂️ Advanced Organization**:  \n",
    "  Auto-sort files into subfolders by categories.  \n",
    "- **🖼️ Beyond Text**:  \n",
    "  Process image files (`.jpg`, `.png`) with similar techniques.  \n",
    "\n",
    "---\n",
    "\n",
    "📜 **Final Scroll of Wisdom**  \n",
    "*\"Automation turns chaos into order—one script at a time.\"*  \n",
    "\n",
    "---"
   ]
  },
  {
   "cell_type": "code",
   "execution_count": null,
   "id": "017f7d57",
   "metadata": {},
   "outputs": [],
   "source": [
    "# The complete spell (script) for your archives:\n",
    "import os\n",
    "\n",
    "# 1. Create test environment (optional)\n",
    "os.mkdir('test_files')  \n",
    "for i in range(1, 101):\n",
    "    with open(f'test_files/file{i}.txt', 'w') as f:\n",
    "        f.write(\"dummy content\")\n",
    "\n",
    "# 2. The renaming ritual\n",
    "for i, filename in enumerate(os.listdir('test_files')):\n",
    "    old_path = os.path.join('test_files', filename)\n",
    "    new_path = os.path.join('test_files', f'data_{i+1}.txt')\n",
    "    os.rename(old_path, new_path)"
   ]
  },
  {
   "cell_type": "markdown",
   "id": "0d38c4c4",
   "metadata": {},
   "source": [
    "**Remember:** With great power (of automation) comes great responsibility. Always test on dummy data first!\n",
    "\n",
    "**Happy coding!** ✨\n",
    "\n",
    "---\n",
    "\n",
    "*Authored with care by Zahra Haider*"
   ]
  }
 ],
 "metadata": {
  "kernelspec": {
   "display_name": "Python 3",
   "language": "python",
   "name": "python3"
  },
  "language_info": {
   "codemirror_mode": {
    "name": "ipython",
    "version": 3
   },
   "file_extension": ".py",
   "mimetype": "text/x-python",
   "name": "python",
   "nbconvert_exporter": "python",
   "pygments_lexer": "ipython3",
   "version": "3.12.4"
  }
 },
 "nbformat": 4,
 "nbformat_minor": 5
}
